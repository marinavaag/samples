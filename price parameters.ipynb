{
 "cells": [
  {
   "cell_type": "code",
   "execution_count": 9,
   "metadata": {},
   "outputs": [],
   "source": [
    "import pandas as pd "
   ]
  },
  {
   "cell_type": "code",
   "execution_count": 10,
   "metadata": {},
   "outputs": [],
   "source": [
    "data = pd.read_csv('data/wind_records1.csv')"
   ]
  },
  {
   "cell_type": "code",
   "execution_count": 11,
   "metadata": {},
   "outputs": [
    {
     "data": {
      "text/plain": [
       "pandas.core.frame.DataFrame"
      ]
     },
     "execution_count": 11,
     "metadata": {},
     "output_type": "execute_result"
    }
   ],
   "source": [
    "type(data)"
   ]
  },
  {
   "cell_type": "code",
   "execution_count": 12,
   "metadata": {},
   "outputs": [
    {
     "data": {
      "text/plain": [
       "RangeIndex(start=0, stop=1462, step=1)"
      ]
     },
     "execution_count": 12,
     "metadata": {},
     "output_type": "execute_result"
    }
   ],
   "source": [
    "data.index"
   ]
  },
  {
   "cell_type": "code",
   "execution_count": 13,
   "metadata": {},
   "outputs": [
    {
     "data": {
      "text/plain": [
       "Index(['DATE', 'Temp_outturn', 'Normal_temp', 'Low_temp', 'High_temp',\n",
       "       'Off_wind', 'On_wind', 'Price', 'Demand', 'gas', 'nuclear',\n",
       "       'interconnector'],\n",
       "      dtype='object')"
      ]
     },
     "execution_count": 13,
     "metadata": {},
     "output_type": "execute_result"
    }
   ],
   "source": [
    "data.columns"
   ]
  },
  {
   "cell_type": "markdown",
   "metadata": {},
   "source": [
    "All these parameters have an impact on the price at which electricity is sold on the wholesale market (the Price parameter here) so it will be important to use them to determine how they affect prices and potentially be able to predict future prices based on these variables. We are likely have to use a linear regression model in order to do that exercice"
   ]
  },
  {
   "cell_type": "code",
   "execution_count": 15,
   "metadata": {
    "scrolled": true
   },
   "outputs": [
    {
     "data": {
      "text/html": [
       "<div>\n",
       "<style scoped>\n",
       "    .dataframe tbody tr th:only-of-type {\n",
       "        vertical-align: middle;\n",
       "    }\n",
       "\n",
       "    .dataframe tbody tr th {\n",
       "        vertical-align: top;\n",
       "    }\n",
       "\n",
       "    .dataframe thead th {\n",
       "        text-align: right;\n",
       "    }\n",
       "</style>\n",
       "<table border=\"1\" class=\"dataframe\">\n",
       "  <thead>\n",
       "    <tr style=\"text-align: right;\">\n",
       "      <th></th>\n",
       "      <th>Temp_outturn</th>\n",
       "      <th>Normal_temp</th>\n",
       "      <th>Low_temp</th>\n",
       "      <th>High_temp</th>\n",
       "      <th>Off_wind</th>\n",
       "      <th>On_wind</th>\n",
       "      <th>Price</th>\n",
       "      <th>Demand</th>\n",
       "      <th>gas</th>\n",
       "      <th>nuclear</th>\n",
       "      <th>interconnector</th>\n",
       "    </tr>\n",
       "  </thead>\n",
       "  <tbody>\n",
       "    <tr>\n",
       "      <th>count</th>\n",
       "      <td>1462.000000</td>\n",
       "      <td>1462.000000</td>\n",
       "      <td>1462.000000</td>\n",
       "      <td>1462.000000</td>\n",
       "      <td>1462.000000</td>\n",
       "      <td>1462.000000</td>\n",
       "      <td>1462.000000</td>\n",
       "      <td>1462.000000</td>\n",
       "      <td>1462.000000</td>\n",
       "      <td>1462.000000</td>\n",
       "      <td>1462.000000</td>\n",
       "    </tr>\n",
       "    <tr>\n",
       "      <th>mean</th>\n",
       "      <td>11.699795</td>\n",
       "      <td>11.145759</td>\n",
       "      <td>8.331669</td>\n",
       "      <td>13.841245</td>\n",
       "      <td>66353.824897</td>\n",
       "      <td>34351.040356</td>\n",
       "      <td>45.409815</td>\n",
       "      <td>31611.273529</td>\n",
       "      <td>260044.521204</td>\n",
       "      <td>175643.774966</td>\n",
       "      <td>100700.222982</td>\n",
       "    </tr>\n",
       "    <tr>\n",
       "      <th>std</th>\n",
       "      <td>5.047663</td>\n",
       "      <td>4.347192</td>\n",
       "      <td>5.109766</td>\n",
       "      <td>4.246783</td>\n",
       "      <td>39998.809336</td>\n",
       "      <td>24586.485896</td>\n",
       "      <td>12.499062</td>\n",
       "      <td>4689.126921</td>\n",
       "      <td>85023.466680</td>\n",
       "      <td>21787.836364</td>\n",
       "      <td>48450.128464</td>\n",
       "    </tr>\n",
       "    <tr>\n",
       "      <th>min</th>\n",
       "      <td>-2.000000</td>\n",
       "      <td>5.100000</td>\n",
       "      <td>0.400000</td>\n",
       "      <td>8.000000</td>\n",
       "      <td>2560.000000</td>\n",
       "      <td>1099.000000</td>\n",
       "      <td>5.810000</td>\n",
       "      <td>22010.830000</td>\n",
       "      <td>26006.000000</td>\n",
       "      <td>99088.000000</td>\n",
       "      <td>-102096.000000</td>\n",
       "    </tr>\n",
       "    <tr>\n",
       "      <th>25%</th>\n",
       "      <td>7.800000</td>\n",
       "      <td>6.600000</td>\n",
       "      <td>3.200000</td>\n",
       "      <td>9.700000</td>\n",
       "      <td>34941.250000</td>\n",
       "      <td>15142.000000</td>\n",
       "      <td>36.855000</td>\n",
       "      <td>28242.337500</td>\n",
       "      <td>197598.000000</td>\n",
       "      <td>162493.250000</td>\n",
       "      <td>82369.000000</td>\n",
       "    </tr>\n",
       "    <tr>\n",
       "      <th>50%</th>\n",
       "      <td>11.300000</td>\n",
       "      <td>11.100000</td>\n",
       "      <td>8.100000</td>\n",
       "      <td>13.500000</td>\n",
       "      <td>60280.000000</td>\n",
       "      <td>29202.500000</td>\n",
       "      <td>43.900000</td>\n",
       "      <td>30710.000000</td>\n",
       "      <td>266516.000000</td>\n",
       "      <td>178718.500000</td>\n",
       "      <td>111874.000000</td>\n",
       "    </tr>\n",
       "    <tr>\n",
       "      <th>75%</th>\n",
       "      <td>16.000000</td>\n",
       "      <td>15.375000</td>\n",
       "      <td>13.200000</td>\n",
       "      <td>17.600000</td>\n",
       "      <td>91110.500000</td>\n",
       "      <td>49596.000000</td>\n",
       "      <td>52.407500</td>\n",
       "      <td>35171.560000</td>\n",
       "      <td>321179.000000</td>\n",
       "      <td>191342.500000</td>\n",
       "      <td>134804.500000</td>\n",
       "    </tr>\n",
       "    <tr>\n",
       "      <th>max</th>\n",
       "      <td>24.900000</td>\n",
       "      <td>18.200000</td>\n",
       "      <td>16.400000</td>\n",
       "      <td>21.500000</td>\n",
       "      <td>201485.000000</td>\n",
       "      <td>116609.000000</td>\n",
       "      <td>197.450000</td>\n",
       "      <td>43222.710000</td>\n",
       "      <td>492039.000000</td>\n",
       "      <td>216959.000000</td>\n",
       "      <td>207538.000000</td>\n",
       "    </tr>\n",
       "  </tbody>\n",
       "</table>\n",
       "</div>"
      ],
      "text/plain": [
       "       Temp_outturn  Normal_temp     Low_temp    High_temp       Off_wind  \\\n",
       "count   1462.000000  1462.000000  1462.000000  1462.000000    1462.000000   \n",
       "mean      11.699795    11.145759     8.331669    13.841245   66353.824897   \n",
       "std        5.047663     4.347192     5.109766     4.246783   39998.809336   \n",
       "min       -2.000000     5.100000     0.400000     8.000000    2560.000000   \n",
       "25%        7.800000     6.600000     3.200000     9.700000   34941.250000   \n",
       "50%       11.300000    11.100000     8.100000    13.500000   60280.000000   \n",
       "75%       16.000000    15.375000    13.200000    17.600000   91110.500000   \n",
       "max       24.900000    18.200000    16.400000    21.500000  201485.000000   \n",
       "\n",
       "             On_wind        Price        Demand            gas        nuclear  \\\n",
       "count    1462.000000  1462.000000   1462.000000    1462.000000    1462.000000   \n",
       "mean    34351.040356    45.409815  31611.273529  260044.521204  175643.774966   \n",
       "std     24586.485896    12.499062   4689.126921   85023.466680   21787.836364   \n",
       "min      1099.000000     5.810000  22010.830000   26006.000000   99088.000000   \n",
       "25%     15142.000000    36.855000  28242.337500  197598.000000  162493.250000   \n",
       "50%     29202.500000    43.900000  30710.000000  266516.000000  178718.500000   \n",
       "75%     49596.000000    52.407500  35171.560000  321179.000000  191342.500000   \n",
       "max    116609.000000   197.450000  43222.710000  492039.000000  216959.000000   \n",
       "\n",
       "       interconnector  \n",
       "count     1462.000000  \n",
       "mean    100700.222982  \n",
       "std      48450.128464  \n",
       "min    -102096.000000  \n",
       "25%      82369.000000  \n",
       "50%     111874.000000  \n",
       "75%     134804.500000  \n",
       "max     207538.000000  "
      ]
     },
     "execution_count": 15,
     "metadata": {},
     "output_type": "execute_result"
    }
   ],
   "source": [
    "data.describe()"
   ]
  },
  {
   "cell_type": "code",
   "execution_count": 16,
   "metadata": {},
   "outputs": [
    {
     "data": {
      "text/plain": [
       "0   2015-10-19\n",
       "1   2015-10-20\n",
       "2   2015-10-21\n",
       "3   2015-10-22\n",
       "4   2015-10-23\n",
       "Name: DATE, dtype: datetime64[ns]"
      ]
     },
     "execution_count": 16,
     "metadata": {},
     "output_type": "execute_result"
    }
   ],
   "source": [
    "data[\"DATE\"] = pd.to_datetime(data[\"DATE\"])\n",
    "data[\"DATE\"].head()"
   ]
  },
  {
   "cell_type": "code",
   "execution_count": 17,
   "metadata": {},
   "outputs": [
    {
     "data": {
      "text/plain": [
       "0        19604\n",
       "1        19504\n",
       "2        67659\n",
       "3        59592\n",
       "4        29528\n",
       "5        63763\n",
       "6        35042\n",
       "7        58057\n",
       "8        44217\n",
       "9        23541\n",
       "10       64636\n",
       "11       63721\n",
       "12       29927\n",
       "13        3317\n",
       "14        8643\n",
       "15       18655\n",
       "16       13688\n",
       "17       53115\n",
       "18       71444\n",
       "19       68235\n",
       "20       72485\n",
       "21       91525\n",
       "22       91227\n",
       "23       83754\n",
       "24       72962\n",
       "25       93467\n",
       "26       85886\n",
       "27       93581\n",
       "28       83603\n",
       "29       72163\n",
       "         ...  \n",
       "1432     62714\n",
       "1433    147333\n",
       "1434     94254\n",
       "1435    101876\n",
       "1436    119876\n",
       "1437     68904\n",
       "1438    151118\n",
       "1439    157235\n",
       "1440    144350\n",
       "1441    142057\n",
       "1442     71811\n",
       "1443    131473\n",
       "1444    112134\n",
       "1445     80709\n",
       "1446    101809\n",
       "1447     75581\n",
       "1448    146885\n",
       "1449    127216\n",
       "1450    170618\n",
       "1451    173094\n",
       "1452    177371\n",
       "1453    175717\n",
       "1454     61479\n",
       "1455     91647\n",
       "1456     69842\n",
       "1457     55744\n",
       "1458    104513\n",
       "1459     93016\n",
       "1460    120781\n",
       "1461     98801\n",
       "Name: Off_wind, Length: 1462, dtype: int64"
      ]
     },
     "execution_count": 17,
     "metadata": {},
     "output_type": "execute_result"
    }
   ],
   "source": [
    "data.Off_wind"
   ]
  },
  {
   "cell_type": "code",
   "execution_count": 18,
   "metadata": {},
   "outputs": [],
   "source": [
    "import numpy as np\n",
    "\n",
    "import matplotlib.pyplot as plt\n"
   ]
  },
  {
   "cell_type": "code",
   "execution_count": 19,
   "metadata": {},
   "outputs": [
    {
     "data": {
      "image/png": "[encoded data removed]",
      "text/plain": [
       "<Figure size 432x288 with 1 Axes>"
      ]
     },
     "metadata": {
      "needs_background": "light"
     },
     "output_type": "display_data"
    }
   ],
   "source": [
    "data.plot(\"DATE\",\"Price\")\n",
    "plt.title(\"Wholesale Price £/MWh\")\n",
    "plt.show()"
   ]
  },
  {
   "cell_type": "markdown",
   "metadata": {},
   "source": [
    "Very volatile prices, minimum (as seen on the description above) was below £6 in summer 2019 while the max was almost £200 in Winter 2018. Winter 2018 had a \"beast from the east\" storm and cold snap which was very likely to cause some stress on energy markets as the majority of the UK (and the continent) saw their demand increase. It would be interesting to see how this particular episode in prices compared to wind output levels"
   ]
  },
  {
   "cell_type": "markdown",
   "metadata": {},
   "source": [
    "Resampling could be an option to remove that bias"
   ]
  },
  {
   "cell_type": "code",
   "execution_count": 59,
   "metadata": {},
   "outputs": [
    {
     "name": "stdout",
     "output_type": "stream",
     "text": [
      "7.925456943385086\n"
     ]
    },
    {
     "data": {
      "text/plain": [
       "[85.89,\n",
       " 116.34,\n",
       " 86.64,\n",
       " 90.59,\n",
       " 92.98,\n",
       " 105.94,\n",
       " 127.85,\n",
       " 197.45,\n",
       " 148.89,\n",
       " 89.89,\n",
       " 85.89,\n",
       " 86.19,\n",
       " 5.81]"
      ]
     },
     "execution_count": 59,
     "metadata": {},
     "output_type": "execute_result"
    }
   ],
   "source": [
    "#identifying outliers in Price time series\n",
    "\n",
    "anomalies = []\n",
    "def find_anomalies(x):\n",
    "    data_std = np.std(x)\n",
    "    data_mean = np.mean(x)\n",
    "    anomaly_cut_off = data_std * 3\n",
    "    \n",
    "    lower_limit  = data_mean - anomaly_cut_off \n",
    "    upper_limit = data_mean + anomaly_cut_off\n",
    "    print(lower_limit)\n",
    "    # Generate outliers\n",
    "    for outlier in x:\n",
    "        if outlier > upper_limit or outlier < lower_limit:\n",
    "            anomalies.append(outlier)\n",
    "    return anomalies\n",
    "\n",
    "Price = data['Price']\n",
    "find_anomalies(Price)"
   ]
  },
  {
   "cell_type": "code",
   "execution_count": 20,
   "metadata": {},
   "outputs": [],
   "source": [
    "#resample"
   ]
  },
  {
   "cell_type": "code",
   "execution_count": 21,
   "metadata": {},
   "outputs": [],
   "source": [
    "data['wind_total'] = data['On_wind'] + data['Off_wind']"
   ]
  },
  {
   "cell_type": "code",
   "execution_count": 22,
   "metadata": {
    "scrolled": false
   },
   "outputs": [
    {
     "data": {
      "text/html": [
       "<div>\n",
       "<style scoped>\n",
       "    .dataframe tbody tr th:only-of-type {\n",
       "        vertical-align: middle;\n",
       "    }\n",
       "\n",
       "    .dataframe tbody tr th {\n",
       "        vertical-align: top;\n",
       "    }\n",
       "\n",
       "    .dataframe thead th {\n",
       "        text-align: right;\n",
       "    }\n",
       "</style>\n",
       "<table border=\"1\" class=\"dataframe\">\n",
       "  <thead>\n",
       "    <tr style=\"text-align: right;\">\n",
       "      <th></th>\n",
       "      <th>DATE</th>\n",
       "      <th>Temp_outturn</th>\n",
       "      <th>Normal_temp</th>\n",
       "      <th>Low_temp</th>\n",
       "      <th>High_temp</th>\n",
       "      <th>Off_wind</th>\n",
       "      <th>On_wind</th>\n",
       "      <th>Price</th>\n",
       "      <th>Demand</th>\n",
       "      <th>gas</th>\n",
       "      <th>nuclear</th>\n",
       "      <th>interconnector</th>\n",
       "      <th>wind_total</th>\n",
       "    </tr>\n",
       "  </thead>\n",
       "  <tbody>\n",
       "    <tr>\n",
       "      <th>0</th>\n",
       "      <td>2015-10-19</td>\n",
       "      <td>10.7</td>\n",
       "      <td>11.0</td>\n",
       "      <td>7.7</td>\n",
       "      <td>13.4</td>\n",
       "      <td>19604</td>\n",
       "      <td>5140</td>\n",
       "      <td>45.42</td>\n",
       "      <td>36243.04</td>\n",
       "      <td>251052</td>\n",
       "      <td>197078</td>\n",
       "      <td>65100</td>\n",
       "      <td>24744</td>\n",
       "    </tr>\n",
       "    <tr>\n",
       "      <th>1</th>\n",
       "      <td>2015-10-20</td>\n",
       "      <td>11.0</td>\n",
       "      <td>11.0</td>\n",
       "      <td>7.7</td>\n",
       "      <td>13.4</td>\n",
       "      <td>19504</td>\n",
       "      <td>20033</td>\n",
       "      <td>45.31</td>\n",
       "      <td>35696.75</td>\n",
       "      <td>224741</td>\n",
       "      <td>197028</td>\n",
       "      <td>63312</td>\n",
       "      <td>39537</td>\n",
       "    </tr>\n",
       "    <tr>\n",
       "      <th>2</th>\n",
       "      <td>2015-10-21</td>\n",
       "      <td>11.9</td>\n",
       "      <td>11.0</td>\n",
       "      <td>7.7</td>\n",
       "      <td>13.4</td>\n",
       "      <td>67659</td>\n",
       "      <td>47331</td>\n",
       "      <td>38.94</td>\n",
       "      <td>35440.56</td>\n",
       "      <td>169912</td>\n",
       "      <td>197025</td>\n",
       "      <td>82050</td>\n",
       "      <td>114990</td>\n",
       "    </tr>\n",
       "    <tr>\n",
       "      <th>3</th>\n",
       "      <td>2015-10-22</td>\n",
       "      <td>12.4</td>\n",
       "      <td>11.0</td>\n",
       "      <td>7.7</td>\n",
       "      <td>13.4</td>\n",
       "      <td>59592</td>\n",
       "      <td>53625</td>\n",
       "      <td>41.92</td>\n",
       "      <td>34344.06</td>\n",
       "      <td>187311</td>\n",
       "      <td>197216</td>\n",
       "      <td>83924</td>\n",
       "      <td>113217</td>\n",
       "    </tr>\n",
       "    <tr>\n",
       "      <th>4</th>\n",
       "      <td>2015-10-23</td>\n",
       "      <td>11.5</td>\n",
       "      <td>11.0</td>\n",
       "      <td>7.7</td>\n",
       "      <td>13.4</td>\n",
       "      <td>29528</td>\n",
       "      <td>42154</td>\n",
       "      <td>39.44</td>\n",
       "      <td>35178.15</td>\n",
       "      <td>201186</td>\n",
       "      <td>197232</td>\n",
       "      <td>92968</td>\n",
       "      <td>71682</td>\n",
       "    </tr>\n",
       "  </tbody>\n",
       "</table>\n",
       "</div>"
      ],
      "text/plain": [
       "        DATE  Temp_outturn  Normal_temp  Low_temp  High_temp  Off_wind  \\\n",
       "0 2015-10-19          10.7         11.0       7.7       13.4     19604   \n",
       "1 2015-10-20          11.0         11.0       7.7       13.4     19504   \n",
       "2 2015-10-21          11.9         11.0       7.7       13.4     67659   \n",
       "3 2015-10-22          12.4         11.0       7.7       13.4     59592   \n",
       "4 2015-10-23          11.5         11.0       7.7       13.4     29528   \n",
       "\n",
       "   On_wind  Price    Demand     gas  nuclear  interconnector  wind_total  \n",
       "0     5140  45.42  36243.04  251052   197078           65100       24744  \n",
       "1    20033  45.31  35696.75  224741   197028           63312       39537  \n",
       "2    47331  38.94  35440.56  169912   197025           82050      114990  \n",
       "3    53625  41.92  34344.06  187311   197216           83924      113217  \n",
       "4    42154  39.44  35178.15  201186   197232           92968       71682  "
      ]
     },
     "execution_count": 22,
     "metadata": {},
     "output_type": "execute_result"
    }
   ],
   "source": [
    "data.head()"
   ]
  },
  {
   "cell_type": "code",
   "execution_count": 23,
   "metadata": {},
   "outputs": [
    {
     "data": {
      "text/html": [
       "<div>\n",
       "<style scoped>\n",
       "    .dataframe tbody tr th:only-of-type {\n",
       "        vertical-align: middle;\n",
       "    }\n",
       "\n",
       "    .dataframe tbody tr th {\n",
       "        vertical-align: top;\n",
       "    }\n",
       "\n",
       "    .dataframe thead th {\n",
       "        text-align: right;\n",
       "    }\n",
       "</style>\n",
       "<table border=\"1\" class=\"dataframe\">\n",
       "  <thead>\n",
       "    <tr style=\"text-align: right;\">\n",
       "      <th></th>\n",
       "      <th>DATE</th>\n",
       "      <th>Temp_outturn</th>\n",
       "      <th>Normal_temp</th>\n",
       "      <th>Low_temp</th>\n",
       "      <th>High_temp</th>\n",
       "      <th>Off_wind</th>\n",
       "      <th>On_wind</th>\n",
       "      <th>Price</th>\n",
       "      <th>Demand</th>\n",
       "      <th>gas</th>\n",
       "      <th>nuclear</th>\n",
       "      <th>interconnector</th>\n",
       "      <th>wind_total</th>\n",
       "      <th>Year</th>\n",
       "      <th>Month</th>\n",
       "    </tr>\n",
       "  </thead>\n",
       "  <tbody>\n",
       "    <tr>\n",
       "      <th>0</th>\n",
       "      <td>2015-10-19</td>\n",
       "      <td>10.7</td>\n",
       "      <td>11.0</td>\n",
       "      <td>7.7</td>\n",
       "      <td>13.4</td>\n",
       "      <td>19604</td>\n",
       "      <td>5140</td>\n",
       "      <td>45.42</td>\n",
       "      <td>36243.04</td>\n",
       "      <td>251052</td>\n",
       "      <td>197078</td>\n",
       "      <td>65100</td>\n",
       "      <td>24744</td>\n",
       "      <td>2015</td>\n",
       "      <td>10</td>\n",
       "    </tr>\n",
       "    <tr>\n",
       "      <th>1</th>\n",
       "      <td>2015-10-20</td>\n",
       "      <td>11.0</td>\n",
       "      <td>11.0</td>\n",
       "      <td>7.7</td>\n",
       "      <td>13.4</td>\n",
       "      <td>19504</td>\n",
       "      <td>20033</td>\n",
       "      <td>45.31</td>\n",
       "      <td>35696.75</td>\n",
       "      <td>224741</td>\n",
       "      <td>197028</td>\n",
       "      <td>63312</td>\n",
       "      <td>39537</td>\n",
       "      <td>2015</td>\n",
       "      <td>10</td>\n",
       "    </tr>\n",
       "    <tr>\n",
       "      <th>2</th>\n",
       "      <td>2015-10-21</td>\n",
       "      <td>11.9</td>\n",
       "      <td>11.0</td>\n",
       "      <td>7.7</td>\n",
       "      <td>13.4</td>\n",
       "      <td>67659</td>\n",
       "      <td>47331</td>\n",
       "      <td>38.94</td>\n",
       "      <td>35440.56</td>\n",
       "      <td>169912</td>\n",
       "      <td>197025</td>\n",
       "      <td>82050</td>\n",
       "      <td>114990</td>\n",
       "      <td>2015</td>\n",
       "      <td>10</td>\n",
       "    </tr>\n",
       "    <tr>\n",
       "      <th>3</th>\n",
       "      <td>2015-10-22</td>\n",
       "      <td>12.4</td>\n",
       "      <td>11.0</td>\n",
       "      <td>7.7</td>\n",
       "      <td>13.4</td>\n",
       "      <td>59592</td>\n",
       "      <td>53625</td>\n",
       "      <td>41.92</td>\n",
       "      <td>34344.06</td>\n",
       "      <td>187311</td>\n",
       "      <td>197216</td>\n",
       "      <td>83924</td>\n",
       "      <td>113217</td>\n",
       "      <td>2015</td>\n",
       "      <td>10</td>\n",
       "    </tr>\n",
       "    <tr>\n",
       "      <th>4</th>\n",
       "      <td>2015-10-23</td>\n",
       "      <td>11.5</td>\n",
       "      <td>11.0</td>\n",
       "      <td>7.7</td>\n",
       "      <td>13.4</td>\n",
       "      <td>29528</td>\n",
       "      <td>42154</td>\n",
       "      <td>39.44</td>\n",
       "      <td>35178.15</td>\n",
       "      <td>201186</td>\n",
       "      <td>197232</td>\n",
       "      <td>92968</td>\n",
       "      <td>71682</td>\n",
       "      <td>2015</td>\n",
       "      <td>10</td>\n",
       "    </tr>\n",
       "  </tbody>\n",
       "</table>\n",
       "</div>"
      ],
      "text/plain": [
       "        DATE  Temp_outturn  Normal_temp  Low_temp  High_temp  Off_wind  \\\n",
       "0 2015-10-19          10.7         11.0       7.7       13.4     19604   \n",
       "1 2015-10-20          11.0         11.0       7.7       13.4     19504   \n",
       "2 2015-10-21          11.9         11.0       7.7       13.4     67659   \n",
       "3 2015-10-22          12.4         11.0       7.7       13.4     59592   \n",
       "4 2015-10-23          11.5         11.0       7.7       13.4     29528   \n",
       "\n",
       "   On_wind  Price    Demand     gas  nuclear  interconnector  wind_total  \\\n",
       "0     5140  45.42  36243.04  251052   197078           65100       24744   \n",
       "1    20033  45.31  35696.75  224741   197028           63312       39537   \n",
       "2    47331  38.94  35440.56  169912   197025           82050      114990   \n",
       "3    53625  41.92  34344.06  187311   197216           83924      113217   \n",
       "4    42154  39.44  35178.15  201186   197232           92968       71682   \n",
       "\n",
       "   Year  Month  \n",
       "0  2015     10  \n",
       "1  2015     10  \n",
       "2  2015     10  \n",
       "3  2015     10  \n",
       "4  2015     10  "
      ]
     },
     "execution_count": 23,
     "metadata": {},
     "output_type": "execute_result"
    }
   ],
   "source": [
    "# extract year and month columns for use later\n",
    "data[\"Year\"] = data[\"DATE\"].dt.year\n",
    "data[\"Month\"] = data[\"DATE\"].dt.month\n",
    "\n",
    "data.head()"
   ]
  },
  {
   "cell_type": "code",
   "execution_count": 24,
   "metadata": {},
   "outputs": [
    {
     "data": {
      "text/plain": [
       "<matplotlib.axes._subplots.AxesSubplot at 0x2a3f3b85198>"
      ]
     },
     "execution_count": 24,
     "metadata": {},
     "output_type": "execute_result"
    },
    {
     "data": {
      "image/png": "[encoded data removed]",
      "text/plain": [
       "<Figure size 432x288 with 1 Axes>"
      ]
     },
     "metadata": {
      "needs_background": "light"
     },
     "output_type": "display_data"
    }
   ],
   "source": [
    "data.groupby(\"Month\")[\"Demand\"].mean().plot.bar(color='blue')\n"
   ]
  },
  {
   "cell_type": "code",
   "execution_count": 25,
   "metadata": {},
   "outputs": [
    {
     "data": {
      "text/plain": [
       "<matplotlib.axes._subplots.AxesSubplot at 0x2a3f3c19198>"
      ]
     },
     "execution_count": 25,
     "metadata": {},
     "output_type": "execute_result"
    },
    {
     "data": {
      "image/png": "[encoded data removed]",
      "text/plain": [
       "<Figure size 432x288 with 1 Axes>"
      ]
     },
     "metadata": {
      "needs_background": "light"
     },
     "output_type": "display_data"
    }
   ],
   "source": [
    "data.groupby(\"Month\")[\"wind_total\"].mean().plot.bar(color='blue')"
   ]
  },
  {
   "cell_type": "markdown",
   "metadata": {},
   "source": [
    "Demand is in MW while wind, gas, nuclear outputs are in MWh so the comparison can't be made with numbers but we see a trend with a slightly lower demand between May and August, which matches the lowest wind output too"
   ]
  },
  {
   "cell_type": "code",
   "execution_count": 26,
   "metadata": {},
   "outputs": [
    {
     "data": {
      "text/plain": [
       "<matplotlib.axes._subplots.AxesSubplot at 0x2a3f3c7f978>"
      ]
     },
     "execution_count": 26,
     "metadata": {},
     "output_type": "execute_result"
    },
    {
     "data": {
      "image/png": "[encoded data removed]",
      "text/plain": [
       "<Figure size 432x288 with 1 Axes>"
      ]
     },
     "metadata": {
      "needs_background": "light"
     },
     "output_type": "display_data"
    }
   ],
   "source": [
    "data.groupby(\"Month\")[\"Price\"].mean().plot.bar(color='blue')"
   ]
  },
  {
   "cell_type": "code",
   "execution_count": 27,
   "metadata": {
    "scrolled": true
   },
   "outputs": [
    {
     "data": {
      "text/plain": [
       "<matplotlib.axes._subplots.AxesSubplot at 0x2a3f3d34828>"
      ]
     },
     "execution_count": 27,
     "metadata": {},
     "output_type": "execute_result"
    },
    {
     "data": {
      "image/png": "[encoded data removed]",
      "text/plain": [
       "<Figure size 432x288 with 1 Axes>"
      ]
     },
     "metadata": {
      "needs_background": "light"
     },
     "output_type": "display_data"
    }
   ],
   "source": [
    "data.groupby(\"Year\")[\"wind_total\"].sum().plot.bar(color='blue')"
   ]
  },
  {
   "cell_type": "markdown",
   "metadata": {},
   "source": [
    "The growth in annual wind output is expected as more wind farms are built in the UK. The drop in 2019 is probably due to the year not finished (data goes up to 19/10/2019)"
   ]
  },
  {
   "cell_type": "code",
   "execution_count": 28,
   "metadata": {
    "scrolled": true
   },
   "outputs": [
    {
     "data": {
      "text/plain": [
       "<matplotlib.axes._subplots.AxesSubplot at 0x2a3f3da7a20>"
      ]
     },
     "execution_count": 28,
     "metadata": {},
     "output_type": "execute_result"
    },
    {
     "data": {
      "image/png": "[encoded data removed]",
      "text/plain": [
       "<Figure size 432x288 with 2 Axes>"
      ]
     },
     "metadata": {
      "needs_background": "light"
     },
     "output_type": "display_data"
    }
   ],
   "source": [
    "fig, ax = plt.subplots()\n",
    "data.plot(kind='scatter', x='Demand', y= 'Temp_outturn', c ='wind_total', colormap='Blues', ax=ax)"
   ]
  },
  {
   "cell_type": "markdown",
   "metadata": {},
   "source": [
    "As suspected power demand has a negative relationship with temperature. Most heating is not electric in the UK, so this is likely to be demand from \"home activities\" such as putting the kettle on, electric radiators, TV from people staying home instead of being outdoors. "
   ]
  },
  {
   "cell_type": "code",
   "execution_count": 29,
   "metadata": {},
   "outputs": [
    {
     "data": {
      "text/plain": [
       "<matplotlib.axes._subplots.AxesSubplot at 0x2a3f3dd9d68>"
      ]
     },
     "execution_count": 29,
     "metadata": {},
     "output_type": "execute_result"
    },
    {
     "data": {
      "image/png": "[encoded data removed]",
      "text/plain": [
       "<Figure size 432x288 with 2 Axes>"
      ]
     },
     "metadata": {
      "needs_background": "light"
     },
     "output_type": "display_data"
    }
   ],
   "source": [
    "fig, ax = plt.subplots()\n",
    "data.plot(kind='scatter', x='Temp_outturn', y ='wind_total', colormap='Blues', ax=ax)"
   ]
  },
  {
   "cell_type": "code",
   "execution_count": 30,
   "metadata": {},
   "outputs": [],
   "source": [
    "from scipy import stats"
   ]
  },
  {
   "cell_type": "code",
   "execution_count": 31,
   "metadata": {},
   "outputs": [
    {
     "data": {
      "text/html": [
       "<div>\n",
       "<style scoped>\n",
       "    .dataframe tbody tr th:only-of-type {\n",
       "        vertical-align: middle;\n",
       "    }\n",
       "\n",
       "    .dataframe tbody tr th {\n",
       "        vertical-align: top;\n",
       "    }\n",
       "\n",
       "    .dataframe thead th {\n",
       "        text-align: right;\n",
       "    }\n",
       "</style>\n",
       "<table border=\"1\" class=\"dataframe\">\n",
       "  <thead>\n",
       "    <tr style=\"text-align: right;\">\n",
       "      <th></th>\n",
       "      <th>Temp_outturn</th>\n",
       "      <th>Normal_temp</th>\n",
       "      <th>Low_temp</th>\n",
       "      <th>High_temp</th>\n",
       "      <th>Off_wind</th>\n",
       "      <th>On_wind</th>\n",
       "      <th>Price</th>\n",
       "      <th>Demand</th>\n",
       "      <th>gas</th>\n",
       "      <th>nuclear</th>\n",
       "      <th>interconnector</th>\n",
       "      <th>wind_total</th>\n",
       "      <th>Year</th>\n",
       "      <th>Month</th>\n",
       "    </tr>\n",
       "  </thead>\n",
       "  <tbody>\n",
       "    <tr>\n",
       "      <th>Temp_outturn</th>\n",
       "      <td>1.000000</td>\n",
       "      <td>0.893937</td>\n",
       "      <td>0.892909</td>\n",
       "      <td>0.900649</td>\n",
       "      <td>-0.227104</td>\n",
       "      <td>-0.168597</td>\n",
       "      <td>-0.222522</td>\n",
       "      <td>-0.784097</td>\n",
       "      <td>-0.317592</td>\n",
       "      <td>-0.033349</td>\n",
       "      <td>0.136545</td>\n",
       "      <td>-0.219956</td>\n",
       "      <td>0.085781</td>\n",
       "      <td>0.134278</td>\n",
       "    </tr>\n",
       "    <tr>\n",
       "      <th>Normal_temp</th>\n",
       "      <td>0.893937</td>\n",
       "      <td>1.000000</td>\n",
       "      <td>0.994826</td>\n",
       "      <td>0.993111</td>\n",
       "      <td>-0.258796</td>\n",
       "      <td>-0.247258</td>\n",
       "      <td>-0.144688</td>\n",
       "      <td>-0.767792</td>\n",
       "      <td>-0.236795</td>\n",
       "      <td>-0.085936</td>\n",
       "      <td>0.108086</td>\n",
       "      <td>-0.273188</td>\n",
       "      <td>0.150333</td>\n",
       "      <td>0.114588</td>\n",
       "    </tr>\n",
       "    <tr>\n",
       "      <th>Low_temp</th>\n",
       "      <td>0.892909</td>\n",
       "      <td>0.994826</td>\n",
       "      <td>1.000000</td>\n",
       "      <td>0.986768</td>\n",
       "      <td>-0.251211</td>\n",
       "      <td>-0.238268</td>\n",
       "      <td>-0.142032</td>\n",
       "      <td>-0.770696</td>\n",
       "      <td>-0.237516</td>\n",
       "      <td>-0.101567</td>\n",
       "      <td>0.109417</td>\n",
       "      <td>-0.264469</td>\n",
       "      <td>0.163320</td>\n",
       "      <td>0.102706</td>\n",
       "    </tr>\n",
       "    <tr>\n",
       "      <th>High_temp</th>\n",
       "      <td>0.900649</td>\n",
       "      <td>0.993111</td>\n",
       "      <td>0.986768</td>\n",
       "      <td>1.000000</td>\n",
       "      <td>-0.267901</td>\n",
       "      <td>-0.260526</td>\n",
       "      <td>-0.149350</td>\n",
       "      <td>-0.764186</td>\n",
       "      <td>-0.231097</td>\n",
       "      <td>-0.081398</td>\n",
       "      <td>0.113480</td>\n",
       "      <td>-0.284667</td>\n",
       "      <td>0.134811</td>\n",
       "      <td>0.121916</td>\n",
       "    </tr>\n",
       "    <tr>\n",
       "      <th>Off_wind</th>\n",
       "      <td>-0.227104</td>\n",
       "      <td>-0.258796</td>\n",
       "      <td>-0.251211</td>\n",
       "      <td>-0.267901</td>\n",
       "      <td>1.000000</td>\n",
       "      <td>0.718374</td>\n",
       "      <td>-0.007267</td>\n",
       "      <td>0.031159</td>\n",
       "      <td>-0.515911</td>\n",
       "      <td>-0.332585</td>\n",
       "      <td>-0.023494</td>\n",
       "      <td>0.958712</td>\n",
       "      <td>0.357554</td>\n",
       "      <td>0.013041</td>\n",
       "    </tr>\n",
       "    <tr>\n",
       "      <th>On_wind</th>\n",
       "      <td>-0.168597</td>\n",
       "      <td>-0.247258</td>\n",
       "      <td>-0.238268</td>\n",
       "      <td>-0.260526</td>\n",
       "      <td>0.718374</td>\n",
       "      <td>1.000000</td>\n",
       "      <td>0.043378</td>\n",
       "      <td>0.021631</td>\n",
       "      <td>-0.513390</td>\n",
       "      <td>-0.268669</td>\n",
       "      <td>-0.067661</td>\n",
       "      <td>0.886544</td>\n",
       "      <td>0.322335</td>\n",
       "      <td>0.028177</td>\n",
       "    </tr>\n",
       "    <tr>\n",
       "      <th>Price</th>\n",
       "      <td>-0.222522</td>\n",
       "      <td>-0.144688</td>\n",
       "      <td>-0.142032</td>\n",
       "      <td>-0.149350</td>\n",
       "      <td>-0.007267</td>\n",
       "      <td>0.043378</td>\n",
       "      <td>1.000000</td>\n",
       "      <td>0.302778</td>\n",
       "      <td>0.302465</td>\n",
       "      <td>-0.114730</td>\n",
       "      <td>-0.222341</td>\n",
       "      <td>0.012899</td>\n",
       "      <td>0.278040</td>\n",
       "      <td>0.070944</td>\n",
       "    </tr>\n",
       "    <tr>\n",
       "      <th>Demand</th>\n",
       "      <td>-0.784097</td>\n",
       "      <td>-0.767792</td>\n",
       "      <td>-0.770696</td>\n",
       "      <td>-0.764186</td>\n",
       "      <td>0.031159</td>\n",
       "      <td>0.021631</td>\n",
       "      <td>0.302778</td>\n",
       "      <td>1.000000</td>\n",
       "      <td>0.598664</td>\n",
       "      <td>0.178578</td>\n",
       "      <td>-0.347416</td>\n",
       "      <td>0.029565</td>\n",
       "      <td>-0.251110</td>\n",
       "      <td>-0.056206</td>\n",
       "    </tr>\n",
       "    <tr>\n",
       "      <th>gas</th>\n",
       "      <td>-0.317592</td>\n",
       "      <td>-0.236795</td>\n",
       "      <td>-0.237516</td>\n",
       "      <td>-0.231097</td>\n",
       "      <td>-0.515911</td>\n",
       "      <td>-0.513390</td>\n",
       "      <td>0.302465</td>\n",
       "      <td>0.598664</td>\n",
       "      <td>1.000000</td>\n",
       "      <td>0.076875</td>\n",
       "      <td>-0.296246</td>\n",
       "      <td>-0.552974</td>\n",
       "      <td>-0.084388</td>\n",
       "      <td>-0.066153</td>\n",
       "    </tr>\n",
       "    <tr>\n",
       "      <th>nuclear</th>\n",
       "      <td>-0.033349</td>\n",
       "      <td>-0.085936</td>\n",
       "      <td>-0.101567</td>\n",
       "      <td>-0.081398</td>\n",
       "      <td>-0.332585</td>\n",
       "      <td>-0.268669</td>\n",
       "      <td>-0.114730</td>\n",
       "      <td>0.178578</td>\n",
       "      <td>0.076875</td>\n",
       "      <td>1.000000</td>\n",
       "      <td>-0.148536</td>\n",
       "      <td>-0.331014</td>\n",
       "      <td>-0.701520</td>\n",
       "      <td>0.077343</td>\n",
       "    </tr>\n",
       "    <tr>\n",
       "      <th>interconnector</th>\n",
       "      <td>0.136545</td>\n",
       "      <td>0.108086</td>\n",
       "      <td>0.109417</td>\n",
       "      <td>0.113480</td>\n",
       "      <td>-0.023494</td>\n",
       "      <td>-0.067661</td>\n",
       "      <td>-0.222341</td>\n",
       "      <td>-0.347416</td>\n",
       "      <td>-0.296246</td>\n",
       "      <td>-0.148536</td>\n",
       "      <td>1.000000</td>\n",
       "      <td>-0.043284</td>\n",
       "      <td>0.148143</td>\n",
       "      <td>-0.220753</td>\n",
       "    </tr>\n",
       "    <tr>\n",
       "      <th>wind_total</th>\n",
       "      <td>-0.219956</td>\n",
       "      <td>-0.273188</td>\n",
       "      <td>-0.264469</td>\n",
       "      <td>-0.284667</td>\n",
       "      <td>0.958712</td>\n",
       "      <td>0.886544</td>\n",
       "      <td>0.012899</td>\n",
       "      <td>0.029565</td>\n",
       "      <td>-0.552974</td>\n",
       "      <td>-0.331014</td>\n",
       "      <td>-0.043284</td>\n",
       "      <td>1.000000</td>\n",
       "      <td>0.369558</td>\n",
       "      <td>0.020191</td>\n",
       "    </tr>\n",
       "    <tr>\n",
       "      <th>Year</th>\n",
       "      <td>0.085781</td>\n",
       "      <td>0.150333</td>\n",
       "      <td>0.163320</td>\n",
       "      <td>0.134811</td>\n",
       "      <td>0.357554</td>\n",
       "      <td>0.322335</td>\n",
       "      <td>0.278040</td>\n",
       "      <td>-0.251110</td>\n",
       "      <td>-0.084388</td>\n",
       "      <td>-0.701520</td>\n",
       "      <td>0.148143</td>\n",
       "      <td>0.369558</td>\n",
       "      <td>1.000000</td>\n",
       "      <td>-0.150925</td>\n",
       "    </tr>\n",
       "    <tr>\n",
       "      <th>Month</th>\n",
       "      <td>0.134278</td>\n",
       "      <td>0.114588</td>\n",
       "      <td>0.102706</td>\n",
       "      <td>0.121916</td>\n",
       "      <td>0.013041</td>\n",
       "      <td>0.028177</td>\n",
       "      <td>0.070944</td>\n",
       "      <td>-0.056206</td>\n",
       "      <td>-0.066153</td>\n",
       "      <td>0.077343</td>\n",
       "      <td>-0.220753</td>\n",
       "      <td>0.020191</td>\n",
       "      <td>-0.150925</td>\n",
       "      <td>1.000000</td>\n",
       "    </tr>\n",
       "  </tbody>\n",
       "</table>\n",
       "</div>"
      ],
      "text/plain": [
       "                Temp_outturn  Normal_temp  Low_temp  High_temp  Off_wind  \\\n",
       "Temp_outturn        1.000000     0.893937  0.892909   0.900649 -0.227104   \n",
       "Normal_temp         0.893937     1.000000  0.994826   0.993111 -0.258796   \n",
       "Low_temp            0.892909     0.994826  1.000000   0.986768 -0.251211   \n",
       "High_temp           0.900649     0.993111  0.986768   1.000000 -0.267901   \n",
       "Off_wind           -0.227104    -0.258796 -0.251211  -0.267901  1.000000   \n",
       "On_wind            -0.168597    -0.247258 -0.238268  -0.260526  0.718374   \n",
       "Price              -0.222522    -0.144688 -0.142032  -0.149350 -0.007267   \n",
       "Demand             -0.784097    -0.767792 -0.770696  -0.764186  0.031159   \n",
       "gas                -0.317592    -0.236795 -0.237516  -0.231097 -0.515911   \n",
       "nuclear            -0.033349    -0.085936 -0.101567  -0.081398 -0.332585   \n",
       "interconnector      0.136545     0.108086  0.109417   0.113480 -0.023494   \n",
       "wind_total         -0.219956    -0.273188 -0.264469  -0.284667  0.958712   \n",
       "Year                0.085781     0.150333  0.163320   0.134811  0.357554   \n",
       "Month               0.134278     0.114588  0.102706   0.121916  0.013041   \n",
       "\n",
       "                 On_wind     Price    Demand       gas   nuclear  \\\n",
       "Temp_outturn   -0.168597 -0.222522 -0.784097 -0.317592 -0.033349   \n",
       "Normal_temp    -0.247258 -0.144688 -0.767792 -0.236795 -0.085936   \n",
       "Low_temp       -0.238268 -0.142032 -0.770696 -0.237516 -0.101567   \n",
       "High_temp      -0.260526 -0.149350 -0.764186 -0.231097 -0.081398   \n",
       "Off_wind        0.718374 -0.007267  0.031159 -0.515911 -0.332585   \n",
       "On_wind         1.000000  0.043378  0.021631 -0.513390 -0.268669   \n",
       "Price           0.043378  1.000000  0.302778  0.302465 -0.114730   \n",
       "Demand          0.021631  0.302778  1.000000  0.598664  0.178578   \n",
       "gas            -0.513390  0.302465  0.598664  1.000000  0.076875   \n",
       "nuclear        -0.268669 -0.114730  0.178578  0.076875  1.000000   \n",
       "interconnector -0.067661 -0.222341 -0.347416 -0.296246 -0.148536   \n",
       "wind_total      0.886544  0.012899  0.029565 -0.552974 -0.331014   \n",
       "Year            0.322335  0.278040 -0.251110 -0.084388 -0.701520   \n",
       "Month           0.028177  0.070944 -0.056206 -0.066153  0.077343   \n",
       "\n",
       "                interconnector  wind_total      Year     Month  \n",
       "Temp_outturn          0.136545   -0.219956  0.085781  0.134278  \n",
       "Normal_temp           0.108086   -0.273188  0.150333  0.114588  \n",
       "Low_temp              0.109417   -0.264469  0.163320  0.102706  \n",
       "High_temp             0.113480   -0.284667  0.134811  0.121916  \n",
       "Off_wind             -0.023494    0.958712  0.357554  0.013041  \n",
       "On_wind              -0.067661    0.886544  0.322335  0.028177  \n",
       "Price                -0.222341    0.012899  0.278040  0.070944  \n",
       "Demand               -0.347416    0.029565 -0.251110 -0.056206  \n",
       "gas                  -0.296246   -0.552974 -0.084388 -0.066153  \n",
       "nuclear              -0.148536   -0.331014 -0.701520  0.077343  \n",
       "interconnector        1.000000   -0.043284  0.148143 -0.220753  \n",
       "wind_total           -0.043284    1.000000  0.369558  0.020191  \n",
       "Year                  0.148143    0.369558  1.000000 -0.150925  \n",
       "Month                -0.220753    0.020191 -0.150925  1.000000  "
      ]
     },
     "execution_count": 31,
     "metadata": {},
     "output_type": "execute_result"
    }
   ],
   "source": [
    "data.corr()"
   ]
  },
  {
   "cell_type": "code",
   "execution_count": 57,
   "metadata": {},
   "outputs": [
    {
     "data": {
      "text/html": [
       "<div>\n",
       "<style scoped>\n",
       "    .dataframe tbody tr th:only-of-type {\n",
       "        vertical-align: middle;\n",
       "    }\n",
       "\n",
       "    .dataframe tbody tr th {\n",
       "        vertical-align: top;\n",
       "    }\n",
       "\n",
       "    .dataframe thead th {\n",
       "        text-align: right;\n",
       "    }\n",
       "</style>\n",
       "<table border=\"1\" class=\"dataframe\">\n",
       "  <thead>\n",
       "    <tr style=\"text-align: right;\">\n",
       "      <th></th>\n",
       "      <th>Temp_outturn</th>\n",
       "      <th>Normal_temp</th>\n",
       "      <th>Low_temp</th>\n",
       "      <th>High_temp</th>\n",
       "      <th>Price</th>\n",
       "      <th>Demand</th>\n",
       "      <th>gas</th>\n",
       "      <th>nuclear</th>\n",
       "      <th>interconnector</th>\n",
       "      <th>wind_total</th>\n",
       "      <th>Year</th>\n",
       "      <th>Month</th>\n",
       "    </tr>\n",
       "  </thead>\n",
       "  <tbody>\n",
       "    <tr>\n",
       "      <th>Temp_outturn</th>\n",
       "      <td>1.000000</td>\n",
       "      <td>0.893937</td>\n",
       "      <td>0.892909</td>\n",
       "      <td>0.900649</td>\n",
       "      <td>-0.222522</td>\n",
       "      <td>-0.784097</td>\n",
       "      <td>-0.317592</td>\n",
       "      <td>-0.033349</td>\n",
       "      <td>0.136545</td>\n",
       "      <td>-0.219956</td>\n",
       "      <td>0.085781</td>\n",
       "      <td>0.134278</td>\n",
       "    </tr>\n",
       "    <tr>\n",
       "      <th>Normal_temp</th>\n",
       "      <td>0.893937</td>\n",
       "      <td>1.000000</td>\n",
       "      <td>0.994826</td>\n",
       "      <td>0.993111</td>\n",
       "      <td>-0.144688</td>\n",
       "      <td>-0.767792</td>\n",
       "      <td>-0.236795</td>\n",
       "      <td>-0.085936</td>\n",
       "      <td>0.108086</td>\n",
       "      <td>-0.273188</td>\n",
       "      <td>0.150333</td>\n",
       "      <td>0.114588</td>\n",
       "    </tr>\n",
       "    <tr>\n",
       "      <th>Low_temp</th>\n",
       "      <td>0.892909</td>\n",
       "      <td>0.994826</td>\n",
       "      <td>1.000000</td>\n",
       "      <td>0.986768</td>\n",
       "      <td>-0.142032</td>\n",
       "      <td>-0.770696</td>\n",
       "      <td>-0.237516</td>\n",
       "      <td>-0.101567</td>\n",
       "      <td>0.109417</td>\n",
       "      <td>-0.264469</td>\n",
       "      <td>0.163320</td>\n",
       "      <td>0.102706</td>\n",
       "    </tr>\n",
       "    <tr>\n",
       "      <th>High_temp</th>\n",
       "      <td>0.900649</td>\n",
       "      <td>0.993111</td>\n",
       "      <td>0.986768</td>\n",
       "      <td>1.000000</td>\n",
       "      <td>-0.149350</td>\n",
       "      <td>-0.764186</td>\n",
       "      <td>-0.231097</td>\n",
       "      <td>-0.081398</td>\n",
       "      <td>0.113480</td>\n",
       "      <td>-0.284667</td>\n",
       "      <td>0.134811</td>\n",
       "      <td>0.121916</td>\n",
       "    </tr>\n",
       "    <tr>\n",
       "      <th>Price</th>\n",
       "      <td>-0.222522</td>\n",
       "      <td>-0.144688</td>\n",
       "      <td>-0.142032</td>\n",
       "      <td>-0.149350</td>\n",
       "      <td>1.000000</td>\n",
       "      <td>0.302778</td>\n",
       "      <td>0.302465</td>\n",
       "      <td>-0.114730</td>\n",
       "      <td>-0.222341</td>\n",
       "      <td>0.012899</td>\n",
       "      <td>0.278040</td>\n",
       "      <td>0.070944</td>\n",
       "    </tr>\n",
       "    <tr>\n",
       "      <th>Demand</th>\n",
       "      <td>-0.784097</td>\n",
       "      <td>-0.767792</td>\n",
       "      <td>-0.770696</td>\n",
       "      <td>-0.764186</td>\n",
       "      <td>0.302778</td>\n",
       "      <td>1.000000</td>\n",
       "      <td>0.598664</td>\n",
       "      <td>0.178578</td>\n",
       "      <td>-0.347416</td>\n",
       "      <td>0.029565</td>\n",
       "      <td>-0.251110</td>\n",
       "      <td>-0.056206</td>\n",
       "    </tr>\n",
       "    <tr>\n",
       "      <th>gas</th>\n",
       "      <td>-0.317592</td>\n",
       "      <td>-0.236795</td>\n",
       "      <td>-0.237516</td>\n",
       "      <td>-0.231097</td>\n",
       "      <td>0.302465</td>\n",
       "      <td>0.598664</td>\n",
       "      <td>1.000000</td>\n",
       "      <td>0.076875</td>\n",
       "      <td>-0.296246</td>\n",
       "      <td>-0.552974</td>\n",
       "      <td>-0.084388</td>\n",
       "      <td>-0.066153</td>\n",
       "    </tr>\n",
       "    <tr>\n",
       "      <th>nuclear</th>\n",
       "      <td>-0.033349</td>\n",
       "      <td>-0.085936</td>\n",
       "      <td>-0.101567</td>\n",
       "      <td>-0.081398</td>\n",
       "      <td>-0.114730</td>\n",
       "      <td>0.178578</td>\n",
       "      <td>0.076875</td>\n",
       "      <td>1.000000</td>\n",
       "      <td>-0.148536</td>\n",
       "      <td>-0.331014</td>\n",
       "      <td>-0.701520</td>\n",
       "      <td>0.077343</td>\n",
       "    </tr>\n",
       "    <tr>\n",
       "      <th>interconnector</th>\n",
       "      <td>0.136545</td>\n",
       "      <td>0.108086</td>\n",
       "      <td>0.109417</td>\n",
       "      <td>0.113480</td>\n",
       "      <td>-0.222341</td>\n",
       "      <td>-0.347416</td>\n",
       "      <td>-0.296246</td>\n",
       "      <td>-0.148536</td>\n",
       "      <td>1.000000</td>\n",
       "      <td>-0.043284</td>\n",
       "      <td>0.148143</td>\n",
       "      <td>-0.220753</td>\n",
       "    </tr>\n",
       "    <tr>\n",
       "      <th>wind_total</th>\n",
       "      <td>-0.219956</td>\n",
       "      <td>-0.273188</td>\n",
       "      <td>-0.264469</td>\n",
       "      <td>-0.284667</td>\n",
       "      <td>0.012899</td>\n",
       "      <td>0.029565</td>\n",
       "      <td>-0.552974</td>\n",
       "      <td>-0.331014</td>\n",
       "      <td>-0.043284</td>\n",
       "      <td>1.000000</td>\n",
       "      <td>0.369558</td>\n",
       "      <td>0.020191</td>\n",
       "    </tr>\n",
       "    <tr>\n",
       "      <th>Year</th>\n",
       "      <td>0.085781</td>\n",
       "      <td>0.150333</td>\n",
       "      <td>0.163320</td>\n",
       "      <td>0.134811</td>\n",
       "      <td>0.278040</td>\n",
       "      <td>-0.251110</td>\n",
       "      <td>-0.084388</td>\n",
       "      <td>-0.701520</td>\n",
       "      <td>0.148143</td>\n",
       "      <td>0.369558</td>\n",
       "      <td>1.000000</td>\n",
       "      <td>-0.150925</td>\n",
       "    </tr>\n",
       "    <tr>\n",
       "      <th>Month</th>\n",
       "      <td>0.134278</td>\n",
       "      <td>0.114588</td>\n",
       "      <td>0.102706</td>\n",
       "      <td>0.121916</td>\n",
       "      <td>0.070944</td>\n",
       "      <td>-0.056206</td>\n",
       "      <td>-0.066153</td>\n",
       "      <td>0.077343</td>\n",
       "      <td>-0.220753</td>\n",
       "      <td>0.020191</td>\n",
       "      <td>-0.150925</td>\n",
       "      <td>1.000000</td>\n",
       "    </tr>\n",
       "  </tbody>\n",
       "</table>\n",
       "</div>"
      ],
      "text/plain": [
       "                Temp_outturn  Normal_temp  Low_temp  High_temp     Price  \\\n",
       "Temp_outturn        1.000000     0.893937  0.892909   0.900649 -0.222522   \n",
       "Normal_temp         0.893937     1.000000  0.994826   0.993111 -0.144688   \n",
       "Low_temp            0.892909     0.994826  1.000000   0.986768 -0.142032   \n",
       "High_temp           0.900649     0.993111  0.986768   1.000000 -0.149350   \n",
       "Price              -0.222522    -0.144688 -0.142032  -0.149350  1.000000   \n",
       "Demand             -0.784097    -0.767792 -0.770696  -0.764186  0.302778   \n",
       "gas                -0.317592    -0.236795 -0.237516  -0.231097  0.302465   \n",
       "nuclear            -0.033349    -0.085936 -0.101567  -0.081398 -0.114730   \n",
       "interconnector      0.136545     0.108086  0.109417   0.113480 -0.222341   \n",
       "wind_total         -0.219956    -0.273188 -0.264469  -0.284667  0.012899   \n",
       "Year                0.085781     0.150333  0.163320   0.134811  0.278040   \n",
       "Month               0.134278     0.114588  0.102706   0.121916  0.070944   \n",
       "\n",
       "                  Demand       gas   nuclear  interconnector  wind_total  \\\n",
       "Temp_outturn   -0.784097 -0.317592 -0.033349        0.136545   -0.219956   \n",
       "Normal_temp    -0.767792 -0.236795 -0.085936        0.108086   -0.273188   \n",
       "Low_temp       -0.770696 -0.237516 -0.101567        0.109417   -0.264469   \n",
       "High_temp      -0.764186 -0.231097 -0.081398        0.113480   -0.284667   \n",
       "Price           0.302778  0.302465 -0.114730       -0.222341    0.012899   \n",
       "Demand          1.000000  0.598664  0.178578       -0.347416    0.029565   \n",
       "gas             0.598664  1.000000  0.076875       -0.296246   -0.552974   \n",
       "nuclear         0.178578  0.076875  1.000000       -0.148536   -0.331014   \n",
       "interconnector -0.347416 -0.296246 -0.148536        1.000000   -0.043284   \n",
       "wind_total      0.029565 -0.552974 -0.331014       -0.043284    1.000000   \n",
       "Year           -0.251110 -0.084388 -0.701520        0.148143    0.369558   \n",
       "Month          -0.056206 -0.066153  0.077343       -0.220753    0.020191   \n",
       "\n",
       "                    Year     Month  \n",
       "Temp_outturn    0.085781  0.134278  \n",
       "Normal_temp     0.150333  0.114588  \n",
       "Low_temp        0.163320  0.102706  \n",
       "High_temp       0.134811  0.121916  \n",
       "Price           0.278040  0.070944  \n",
       "Demand         -0.251110 -0.056206  \n",
       "gas            -0.084388 -0.066153  \n",
       "nuclear        -0.701520  0.077343  \n",
       "interconnector  0.148143 -0.220753  \n",
       "wind_total      0.369558  0.020191  \n",
       "Year            1.000000 -0.150925  \n",
       "Month          -0.150925  1.000000  "
      ]
     },
     "execution_count": 57,
     "metadata": {},
     "output_type": "execute_result"
    }
   ],
   "source": [
    "data_totalwind = data.drop('On_wind', axis =1)\n",
    "data_totalwind = data_totalwind.drop('Off_wind', axis=1)\n",
    "data_totalwind.corr()"
   ]
  },
  {
   "cell_type": "markdown",
   "metadata": {},
   "source": [
    "I will add a day of the week to get a sense of demand and price seasonality within the week too "
   ]
  },
  {
   "cell_type": "code",
   "execution_count": 37,
   "metadata": {},
   "outputs": [
    {
     "data": {
      "text/html": [
       "<div>\n",
       "<style scoped>\n",
       "    .dataframe tbody tr th:only-of-type {\n",
       "        vertical-align: middle;\n",
       "    }\n",
       "\n",
       "    .dataframe tbody tr th {\n",
       "        vertical-align: top;\n",
       "    }\n",
       "\n",
       "    .dataframe thead th {\n",
       "        text-align: right;\n",
       "    }\n",
       "</style>\n",
       "<table border=\"1\" class=\"dataframe\">\n",
       "  <thead>\n",
       "    <tr style=\"text-align: right;\">\n",
       "      <th></th>\n",
       "      <th>DATE</th>\n",
       "      <th>Temp_outturn</th>\n",
       "      <th>Normal_temp</th>\n",
       "      <th>Low_temp</th>\n",
       "      <th>High_temp</th>\n",
       "      <th>Off_wind</th>\n",
       "      <th>On_wind</th>\n",
       "      <th>Price</th>\n",
       "      <th>Demand</th>\n",
       "      <th>gas</th>\n",
       "      <th>nuclear</th>\n",
       "      <th>interconnector</th>\n",
       "      <th>wind_total</th>\n",
       "      <th>Year</th>\n",
       "      <th>Month</th>\n",
       "      <th>day-of-week</th>\n",
       "    </tr>\n",
       "  </thead>\n",
       "  <tbody>\n",
       "    <tr>\n",
       "      <th>0</th>\n",
       "      <td>2015-10-19</td>\n",
       "      <td>10.7</td>\n",
       "      <td>11.0</td>\n",
       "      <td>7.7</td>\n",
       "      <td>13.4</td>\n",
       "      <td>19604</td>\n",
       "      <td>5140</td>\n",
       "      <td>45.42</td>\n",
       "      <td>36243.04</td>\n",
       "      <td>251052</td>\n",
       "      <td>197078</td>\n",
       "      <td>65100</td>\n",
       "      <td>24744</td>\n",
       "      <td>2015</td>\n",
       "      <td>10</td>\n",
       "      <td>Monday</td>\n",
       "    </tr>\n",
       "    <tr>\n",
       "      <th>1</th>\n",
       "      <td>2015-10-20</td>\n",
       "      <td>11.0</td>\n",
       "      <td>11.0</td>\n",
       "      <td>7.7</td>\n",
       "      <td>13.4</td>\n",
       "      <td>19504</td>\n",
       "      <td>20033</td>\n",
       "      <td>45.31</td>\n",
       "      <td>35696.75</td>\n",
       "      <td>224741</td>\n",
       "      <td>197028</td>\n",
       "      <td>63312</td>\n",
       "      <td>39537</td>\n",
       "      <td>2015</td>\n",
       "      <td>10</td>\n",
       "      <td>Tuesday</td>\n",
       "    </tr>\n",
       "    <tr>\n",
       "      <th>2</th>\n",
       "      <td>2015-10-21</td>\n",
       "      <td>11.9</td>\n",
       "      <td>11.0</td>\n",
       "      <td>7.7</td>\n",
       "      <td>13.4</td>\n",
       "      <td>67659</td>\n",
       "      <td>47331</td>\n",
       "      <td>38.94</td>\n",
       "      <td>35440.56</td>\n",
       "      <td>169912</td>\n",
       "      <td>197025</td>\n",
       "      <td>82050</td>\n",
       "      <td>114990</td>\n",
       "      <td>2015</td>\n",
       "      <td>10</td>\n",
       "      <td>Wednesday</td>\n",
       "    </tr>\n",
       "    <tr>\n",
       "      <th>3</th>\n",
       "      <td>2015-10-22</td>\n",
       "      <td>12.4</td>\n",
       "      <td>11.0</td>\n",
       "      <td>7.7</td>\n",
       "      <td>13.4</td>\n",
       "      <td>59592</td>\n",
       "      <td>53625</td>\n",
       "      <td>41.92</td>\n",
       "      <td>34344.06</td>\n",
       "      <td>187311</td>\n",
       "      <td>197216</td>\n",
       "      <td>83924</td>\n",
       "      <td>113217</td>\n",
       "      <td>2015</td>\n",
       "      <td>10</td>\n",
       "      <td>Thursday</td>\n",
       "    </tr>\n",
       "    <tr>\n",
       "      <th>4</th>\n",
       "      <td>2015-10-23</td>\n",
       "      <td>11.5</td>\n",
       "      <td>11.0</td>\n",
       "      <td>7.7</td>\n",
       "      <td>13.4</td>\n",
       "      <td>29528</td>\n",
       "      <td>42154</td>\n",
       "      <td>39.44</td>\n",
       "      <td>35178.15</td>\n",
       "      <td>201186</td>\n",
       "      <td>197232</td>\n",
       "      <td>92968</td>\n",
       "      <td>71682</td>\n",
       "      <td>2015</td>\n",
       "      <td>10</td>\n",
       "      <td>Friday</td>\n",
       "    </tr>\n",
       "  </tbody>\n",
       "</table>\n",
       "</div>"
      ],
      "text/plain": [
       "        DATE  Temp_outturn  Normal_temp  Low_temp  High_temp  Off_wind  \\\n",
       "0 2015-10-19          10.7         11.0       7.7       13.4     19604   \n",
       "1 2015-10-20          11.0         11.0       7.7       13.4     19504   \n",
       "2 2015-10-21          11.9         11.0       7.7       13.4     67659   \n",
       "3 2015-10-22          12.4         11.0       7.7       13.4     59592   \n",
       "4 2015-10-23          11.5         11.0       7.7       13.4     29528   \n",
       "\n",
       "   On_wind  Price    Demand     gas  nuclear  interconnector  wind_total  \\\n",
       "0     5140  45.42  36243.04  251052   197078           65100       24744   \n",
       "1    20033  45.31  35696.75  224741   197028           63312       39537   \n",
       "2    47331  38.94  35440.56  169912   197025           82050      114990   \n",
       "3    53625  41.92  34344.06  187311   197216           83924      113217   \n",
       "4    42154  39.44  35178.15  201186   197232           92968       71682   \n",
       "\n",
       "   Year  Month day-of-week  \n",
       "0  2015     10      Monday  \n",
       "1  2015     10     Tuesday  \n",
       "2  2015     10   Wednesday  \n",
       "3  2015     10    Thursday  \n",
       "4  2015     10      Friday  "
      ]
     },
     "execution_count": 37,
     "metadata": {},
     "output_type": "execute_result"
    }
   ],
   "source": [
    "data[\"day-of-week\"] = data[\"DATE\"].dt.day_name()\n",
    "data.head()"
   ]
  },
  {
   "cell_type": "code",
   "execution_count": 54,
   "metadata": {},
   "outputs": [
    {
     "data": {
      "text/plain": [
       "<matplotlib.axes._subplots.AxesSubplot at 0x2a3f69f3a90>"
      ]
     },
     "execution_count": 54,
     "metadata": {},
     "output_type": "execute_result"
    },
    {
     "data": {
      "image/png": "[encoded data removed]",
      "text/plain": [
       "<Figure size 432x288 with 1 Axes>"
      ]
     },
     "metadata": {
      "needs_background": "light"
     },
     "output_type": "display_data"
    }
   ],
   "source": [
    "data.groupby(\"day-of-week\")[\"Demand\"].sum().plot.bar(color='blue')"
   ]
  },
  {
   "cell_type": "code",
   "execution_count": 55,
   "metadata": {},
   "outputs": [
    {
     "data": {
      "text/plain": [
       "<matplotlib.axes._subplots.AxesSubplot at 0x2a3f5f3bb70>"
      ]
     },
     "execution_count": 55,
     "metadata": {},
     "output_type": "execute_result"
    },
    {
     "data": {
      "image/png": "[encoded data removed]",
      "text/plain": [
       "<Figure size 432x288 with 1 Axes>"
      ]
     },
     "metadata": {
      "needs_background": "light"
     },
     "output_type": "display_data"
    }
   ],
   "source": [
    "\n",
    "data.groupby(\"day-of-week\")[\"Demand\"].sum().plot.bar(color='red')"
   ]
  },
  {
   "cell_type": "markdown",
   "metadata": {},
   "source": [
    "Price and demand follow the same seasonal patterns within week"
   ]
  },
  {
   "cell_type": "code",
   "execution_count": 40,
   "metadata": {},
   "outputs": [
    {
     "data": {
      "text/plain": [
       "<matplotlib.axes._subplots.AxesSubplot at 0x2a3f5d21160>"
      ]
     },
     "execution_count": 40,
     "metadata": {},
     "output_type": "execute_result"
    },
    {
     "data": {
      "image/png": "[encoded data removed]",
      "text/plain": [
       "<Figure size 432x288 with 1 Axes>"
      ]
     },
     "metadata": {
      "needs_background": "light"
     },
     "output_type": "display_data"
    }
   ],
   "source": [
    "import seaborn as sns\n",
    "sns.boxplot(\"day-of-week\", \"Demand\", data=data)"
   ]
  },
  {
   "cell_type": "code",
   "execution_count": 61,
   "metadata": {},
   "outputs": [],
   "source": [
    "from sklearn import datasets, metrics\n",
    "from sklearn.linear_model import LinearRegression\n",
    "from sklearn.model_selection import train_test_split"
   ]
  },
  {
   "cell_type": "code",
   "execution_count": 62,
   "metadata": {},
   "outputs": [
    {
     "data": {
      "text/html": [
       "<div>\n",
       "<style scoped>\n",
       "    .dataframe tbody tr th:only-of-type {\n",
       "        vertical-align: middle;\n",
       "    }\n",
       "\n",
       "    .dataframe tbody tr th {\n",
       "        vertical-align: top;\n",
       "    }\n",
       "\n",
       "    .dataframe thead th {\n",
       "        text-align: right;\n",
       "    }\n",
       "</style>\n",
       "<table border=\"1\" class=\"dataframe\">\n",
       "  <thead>\n",
       "    <tr style=\"text-align: right;\">\n",
       "      <th></th>\n",
       "      <th>DATE</th>\n",
       "      <th>Temp_outturn</th>\n",
       "      <th>Normal_temp</th>\n",
       "      <th>Low_temp</th>\n",
       "      <th>High_temp</th>\n",
       "      <th>Off_wind</th>\n",
       "      <th>On_wind</th>\n",
       "      <th>Price</th>\n",
       "      <th>Demand</th>\n",
       "      <th>gas</th>\n",
       "      <th>nuclear</th>\n",
       "      <th>interconnector</th>\n",
       "      <th>wind_total</th>\n",
       "      <th>Year</th>\n",
       "      <th>Month</th>\n",
       "      <th>day-of-week</th>\n",
       "    </tr>\n",
       "  </thead>\n",
       "  <tbody>\n",
       "    <tr>\n",
       "      <th>0</th>\n",
       "      <td>2015-10-19</td>\n",
       "      <td>10.7</td>\n",
       "      <td>11.0</td>\n",
       "      <td>7.7</td>\n",
       "      <td>13.4</td>\n",
       "      <td>19604</td>\n",
       "      <td>5140</td>\n",
       "      <td>45.42</td>\n",
       "      <td>36243.04</td>\n",
       "      <td>251052</td>\n",
       "      <td>197078</td>\n",
       "      <td>65100</td>\n",
       "      <td>24744</td>\n",
       "      <td>2015</td>\n",
       "      <td>10</td>\n",
       "      <td>Monday</td>\n",
       "    </tr>\n",
       "  </tbody>\n",
       "</table>\n",
       "</div>"
      ],
      "text/plain": [
       "        DATE  Temp_outturn  Normal_temp  Low_temp  High_temp  Off_wind  \\\n",
       "0 2015-10-19          10.7         11.0       7.7       13.4     19604   \n",
       "\n",
       "   On_wind  Price    Demand     gas  nuclear  interconnector  wind_total  \\\n",
       "0     5140  45.42  36243.04  251052   197078           65100       24744   \n",
       "\n",
       "   Year  Month day-of-week  \n",
       "0  2015     10      Monday  "
      ]
     },
     "execution_count": 62,
     "metadata": {},
     "output_type": "execute_result"
    }
   ],
   "source": [
    "data.head(1)"
   ]
  },
  {
   "cell_type": "code",
   "execution_count": 63,
   "metadata": {},
   "outputs": [
    {
     "name": "stdout",
     "output_type": "stream",
     "text": [
      "1023 439\n",
      "1023 439\n"
     ]
    }
   ],
   "source": [
    "X = data[[\"Temp_outturn\",\"Demand\",\"wind_total\",\"gas\",\"nuclear\",\"interconnector\"]]\n",
    "y = data[\"Price\"]\n",
    "\n",
    "X_train, X_test, y_train, y_test = train_test_split(X, y, test_size=0.3, random_state=42)\n",
    "\n",
    "print(len(X_train), len(X_test))\n",
    "print(len(y_train), len(y_test))"
   ]
  },
  {
   "cell_type": "code",
   "execution_count": 64,
   "metadata": {},
   "outputs": [
    {
     "data": {
      "text/plain": [
       "LinearRegression(copy_X=True, fit_intercept=True, n_jobs=None, normalize=False)"
      ]
     },
     "execution_count": 64,
     "metadata": {},
     "output_type": "execute_result"
    }
   ],
   "source": [
    "model= LinearRegression()\n",
    "model.fit(X_train, y_train)"
   ]
  },
  {
   "cell_type": "code",
   "execution_count": 65,
   "metadata": {},
   "outputs": [
    {
     "name": "stdout",
     "output_type": "stream",
     "text": [
      "41.40348736297327 [ 5.13482949e-05  4.17172923e-04  1.70712989e-05  3.13792746e-05\n",
      " -8.90830604e-05 -3.55205762e-05]\n"
     ]
    }
   ],
   "source": [
    "print(model.intercept_, model.coef_)"
   ]
  },
  {
   "cell_type": "markdown",
   "metadata": {},
   "source": [
    "the coefficient for the paramater :\n",
    "- temperature is 5.13\n",
    "- Demand is 4.17\n",
    "- Wind is 1.71\n",
    "- gas is 3.137\n",
    "- nuclear is - 8.91\n",
    "- interconnector is -3.552"
   ]
  },
  {
   "cell_type": "markdown",
   "metadata": {},
   "source": [
    "Supply parameters such as Wind, gas, nuclear and interconnector should all have a negative effect on price (if supply > demand, price usually reduces). This is the case for Nuclear and Interconnector. However for wind and gas it isn't, this is interesting because of the nature of that type of supply. As we saw, wind will likely be higher in periods like winter when temperature, demand (and therefore price) is also higher so the model can't isolate the impact of wind on prices. Gas plants are fast to turn on and off and often used as peak plants for periods of peak demand and high prices, hence the relationship is also positive. "
   ]
  },
  {
   "cell_type": "code",
   "execution_count": 66,
   "metadata": {},
   "outputs": [
    {
     "data": {
      "text/html": [
       "<div>\n",
       "<style scoped>\n",
       "    .dataframe tbody tr th:only-of-type {\n",
       "        vertical-align: middle;\n",
       "    }\n",
       "\n",
       "    .dataframe tbody tr th {\n",
       "        vertical-align: top;\n",
       "    }\n",
       "\n",
       "    .dataframe thead th {\n",
       "        text-align: right;\n",
       "    }\n",
       "</style>\n",
       "<table border=\"1\" class=\"dataframe\">\n",
       "  <thead>\n",
       "    <tr style=\"text-align: right;\">\n",
       "      <th></th>\n",
       "      <th>Coefficient</th>\n",
       "    </tr>\n",
       "  </thead>\n",
       "  <tbody>\n",
       "    <tr>\n",
       "      <th>Temp_outturn</th>\n",
       "      <td>0.000051</td>\n",
       "    </tr>\n",
       "    <tr>\n",
       "      <th>Demand</th>\n",
       "      <td>0.000417</td>\n",
       "    </tr>\n",
       "    <tr>\n",
       "      <th>wind_total</th>\n",
       "      <td>0.000017</td>\n",
       "    </tr>\n",
       "    <tr>\n",
       "      <th>gas</th>\n",
       "      <td>0.000031</td>\n",
       "    </tr>\n",
       "    <tr>\n",
       "      <th>nuclear</th>\n",
       "      <td>-0.000089</td>\n",
       "    </tr>\n",
       "    <tr>\n",
       "      <th>interconnector</th>\n",
       "      <td>-0.000036</td>\n",
       "    </tr>\n",
       "  </tbody>\n",
       "</table>\n",
       "</div>"
      ],
      "text/plain": [
       "                Coefficient\n",
       "Temp_outturn       0.000051\n",
       "Demand             0.000417\n",
       "wind_total         0.000017\n",
       "gas                0.000031\n",
       "nuclear           -0.000089\n",
       "interconnector    -0.000036"
      ]
     },
     "execution_count": 66,
     "metadata": {},
     "output_type": "execute_result"
    }
   ],
   "source": [
    "coeff_df = pd.DataFrame(model.coef_, X.columns, columns=['Coefficient'])  \n",
    "coeff_df"
   ]
  },
  {
   "cell_type": "markdown",
   "metadata": {},
   "source": [
    "#### 4. Assess accuracy "
   ]
  },
  {
   "cell_type": "code",
   "execution_count": 67,
   "metadata": {},
   "outputs": [
    {
     "name": "stdout",
     "output_type": "stream",
     "text": [
      "Variance score: 0.15\n"
     ]
    }
   ],
   "source": [
    "print('Variance score: %.2f' % model.score(X_test, y_test))"
   ]
  },
  {
   "cell_type": "code",
   "execution_count": 68,
   "metadata": {},
   "outputs": [],
   "source": [
    "y_pred = model.predict(X_test)"
   ]
  },
  {
   "cell_type": "code",
   "execution_count": 69,
   "metadata": {},
   "outputs": [
    {
     "name": "stdout",
     "output_type": "stream",
     "text": [
      "MAE: 8.556721205440171\n",
      "MSE: 138.4459375968149\n",
      "RMSE: 11.766305180336557\n"
     ]
    }
   ],
   "source": [
    "from sklearn import metrics\n",
    "\n",
    "print('MAE:', metrics.mean_absolute_error(y_test, y_pred))\n",
    "print('MSE:', metrics.mean_squared_error(y_test, y_pred))\n",
    "print('RMSE:', np.sqrt(metrics.mean_squared_error(y_test, y_pred)))"
   ]
  },
  {
   "cell_type": "code",
   "execution_count": 70,
   "metadata": {},
   "outputs": [
    {
     "name": "stdout",
     "output_type": "stream",
     "text": [
      "RMSE: (dumb model): 12.740960416373586\n"
     ]
    }
   ],
   "source": [
    "#comparing without fitted model:\n",
    "y_pred_dumb = [y_train.mean()] * len(y_test)\n",
    "\n",
    "print('RMSE: (dumb model):', np.sqrt(metrics.mean_squared_error(y_test, y_pred_dumb)))"
   ]
  },
  {
   "cell_type": "code",
   "execution_count": 71,
   "metadata": {},
   "outputs": [
    {
     "data": {
      "text/html": [
       "<div>\n",
       "<style scoped>\n",
       "    .dataframe tbody tr th:only-of-type {\n",
       "        vertical-align: middle;\n",
       "    }\n",
       "\n",
       "    .dataframe tbody tr th {\n",
       "        vertical-align: top;\n",
       "    }\n",
       "\n",
       "    .dataframe thead th {\n",
       "        text-align: right;\n",
       "    }\n",
       "</style>\n",
       "<table border=\"1\" class=\"dataframe\">\n",
       "  <thead>\n",
       "    <tr style=\"text-align: right;\">\n",
       "      <th></th>\n",
       "      <th>Actual</th>\n",
       "      <th>Predicted</th>\n",
       "    </tr>\n",
       "  </thead>\n",
       "  <tbody>\n",
       "    <tr>\n",
       "      <th>892</th>\n",
       "      <td>53.26</td>\n",
       "      <td>50.534419</td>\n",
       "    </tr>\n",
       "    <tr>\n",
       "      <th>1106</th>\n",
       "      <td>63.48</td>\n",
       "      <td>54.202915</td>\n",
       "    </tr>\n",
       "    <tr>\n",
       "      <th>413</th>\n",
       "      <td>58.41</td>\n",
       "      <td>54.974188</td>\n",
       "    </tr>\n",
       "    <tr>\n",
       "      <th>522</th>\n",
       "      <td>54.59</td>\n",
       "      <td>45.452134</td>\n",
       "    </tr>\n",
       "    <tr>\n",
       "      <th>1036</th>\n",
       "      <td>89.89</td>\n",
       "      <td>44.638356</td>\n",
       "    </tr>\n",
       "    <tr>\n",
       "      <th>614</th>\n",
       "      <td>31.38</td>\n",
       "      <td>36.570728</td>\n",
       "    </tr>\n",
       "    <tr>\n",
       "      <th>218</th>\n",
       "      <td>30.08</td>\n",
       "      <td>42.414202</td>\n",
       "    </tr>\n",
       "    <tr>\n",
       "      <th>1161</th>\n",
       "      <td>67.23</td>\n",
       "      <td>47.234312</td>\n",
       "    </tr>\n",
       "    <tr>\n",
       "      <th>649</th>\n",
       "      <td>42.48</td>\n",
       "      <td>36.792686</td>\n",
       "    </tr>\n",
       "    <tr>\n",
       "      <th>887</th>\n",
       "      <td>53.50</td>\n",
       "      <td>44.189594</td>\n",
       "    </tr>\n",
       "    <tr>\n",
       "      <th>576</th>\n",
       "      <td>105.94</td>\n",
       "      <td>45.331873</td>\n",
       "    </tr>\n",
       "    <tr>\n",
       "      <th>1253</th>\n",
       "      <td>34.75</td>\n",
       "      <td>47.657204</td>\n",
       "    </tr>\n",
       "    <tr>\n",
       "      <th>1061</th>\n",
       "      <td>62.56</td>\n",
       "      <td>42.222871</td>\n",
       "    </tr>\n",
       "    <tr>\n",
       "      <th>567</th>\n",
       "      <td>40.83</td>\n",
       "      <td>43.968024</td>\n",
       "    </tr>\n",
       "    <tr>\n",
       "      <th>1307</th>\n",
       "      <td>43.34</td>\n",
       "      <td>40.653665</td>\n",
       "    </tr>\n",
       "    <tr>\n",
       "      <th>1114</th>\n",
       "      <td>61.72</td>\n",
       "      <td>49.514345</td>\n",
       "    </tr>\n",
       "    <tr>\n",
       "      <th>168</th>\n",
       "      <td>40.50</td>\n",
       "      <td>44.015790</td>\n",
       "    </tr>\n",
       "    <tr>\n",
       "      <th>1103</th>\n",
       "      <td>62.39</td>\n",
       "      <td>49.617749</td>\n",
       "    </tr>\n",
       "    <tr>\n",
       "      <th>1121</th>\n",
       "      <td>58.69</td>\n",
       "      <td>47.948599</td>\n",
       "    </tr>\n",
       "    <tr>\n",
       "      <th>67</th>\n",
       "      <td>30.31</td>\n",
       "      <td>35.555407</td>\n",
       "    </tr>\n",
       "    <tr>\n",
       "      <th>1040</th>\n",
       "      <td>56.97</td>\n",
       "      <td>39.412841</td>\n",
       "    </tr>\n",
       "    <tr>\n",
       "      <th>453</th>\n",
       "      <td>51.39</td>\n",
       "      <td>52.341983</td>\n",
       "    </tr>\n",
       "    <tr>\n",
       "      <th>670</th>\n",
       "      <td>19.93</td>\n",
       "      <td>34.233674</td>\n",
       "    </tr>\n",
       "    <tr>\n",
       "      <th>1456</th>\n",
       "      <td>42.44</td>\n",
       "      <td>48.700869</td>\n",
       "    </tr>\n",
       "    <tr>\n",
       "      <th>192</th>\n",
       "      <td>36.18</td>\n",
       "      <td>50.993079</td>\n",
       "    </tr>\n",
       "    <tr>\n",
       "      <th>123</th>\n",
       "      <td>32.06</td>\n",
       "      <td>44.719221</td>\n",
       "    </tr>\n",
       "    <tr>\n",
       "      <th>415</th>\n",
       "      <td>42.63</td>\n",
       "      <td>52.221968</td>\n",
       "    </tr>\n",
       "    <tr>\n",
       "      <th>277</th>\n",
       "      <td>42.24</td>\n",
       "      <td>42.378707</td>\n",
       "    </tr>\n",
       "    <tr>\n",
       "      <th>433</th>\n",
       "      <td>27.83</td>\n",
       "      <td>37.368567</td>\n",
       "    </tr>\n",
       "    <tr>\n",
       "      <th>1318</th>\n",
       "      <td>37.36</td>\n",
       "      <td>44.210069</td>\n",
       "    </tr>\n",
       "    <tr>\n",
       "      <th>...</th>\n",
       "      <td>...</td>\n",
       "      <td>...</td>\n",
       "    </tr>\n",
       "    <tr>\n",
       "      <th>1193</th>\n",
       "      <td>86.19</td>\n",
       "      <td>58.438460</td>\n",
       "    </tr>\n",
       "    <tr>\n",
       "      <th>1323</th>\n",
       "      <td>34.38</td>\n",
       "      <td>49.846725</td>\n",
       "    </tr>\n",
       "    <tr>\n",
       "      <th>704</th>\n",
       "      <td>44.05</td>\n",
       "      <td>43.653181</td>\n",
       "    </tr>\n",
       "    <tr>\n",
       "      <th>1324</th>\n",
       "      <td>40.46</td>\n",
       "      <td>49.792199</td>\n",
       "    </tr>\n",
       "    <tr>\n",
       "      <th>199</th>\n",
       "      <td>29.12</td>\n",
       "      <td>44.704226</td>\n",
       "    </tr>\n",
       "    <tr>\n",
       "      <th>493</th>\n",
       "      <td>44.19</td>\n",
       "      <td>43.690173</td>\n",
       "    </tr>\n",
       "    <tr>\n",
       "      <th>664</th>\n",
       "      <td>43.46</td>\n",
       "      <td>36.159830</td>\n",
       "    </tr>\n",
       "    <tr>\n",
       "      <th>1340</th>\n",
       "      <td>43.18</td>\n",
       "      <td>48.411587</td>\n",
       "    </tr>\n",
       "    <tr>\n",
       "      <th>1058</th>\n",
       "      <td>56.53</td>\n",
       "      <td>44.606462</td>\n",
       "    </tr>\n",
       "    <tr>\n",
       "      <th>1188</th>\n",
       "      <td>65.85</td>\n",
       "      <td>54.404882</td>\n",
       "    </tr>\n",
       "    <tr>\n",
       "      <th>10</th>\n",
       "      <td>39.89</td>\n",
       "      <td>45.519229</td>\n",
       "    </tr>\n",
       "    <tr>\n",
       "      <th>147</th>\n",
       "      <td>30.28</td>\n",
       "      <td>46.521248</td>\n",
       "    </tr>\n",
       "    <tr>\n",
       "      <th>764</th>\n",
       "      <td>48.69</td>\n",
       "      <td>55.396183</td>\n",
       "    </tr>\n",
       "    <tr>\n",
       "      <th>282</th>\n",
       "      <td>34.88</td>\n",
       "      <td>42.366357</td>\n",
       "    </tr>\n",
       "    <tr>\n",
       "      <th>298</th>\n",
       "      <td>34.33</td>\n",
       "      <td>38.569583</td>\n",
       "    </tr>\n",
       "    <tr>\n",
       "      <th>918</th>\n",
       "      <td>45.43</td>\n",
       "      <td>46.510717</td>\n",
       "    </tr>\n",
       "    <tr>\n",
       "      <th>291</th>\n",
       "      <td>38.87</td>\n",
       "      <td>43.096054</td>\n",
       "    </tr>\n",
       "    <tr>\n",
       "      <th>819</th>\n",
       "      <td>50.23</td>\n",
       "      <td>46.966544</td>\n",
       "    </tr>\n",
       "    <tr>\n",
       "      <th>573</th>\n",
       "      <td>36.23</td>\n",
       "      <td>37.674473</td>\n",
       "    </tr>\n",
       "    <tr>\n",
       "      <th>1455</th>\n",
       "      <td>34.49</td>\n",
       "      <td>44.093820</td>\n",
       "    </tr>\n",
       "    <tr>\n",
       "      <th>549</th>\n",
       "      <td>41.82</td>\n",
       "      <td>47.458990</td>\n",
       "    </tr>\n",
       "    <tr>\n",
       "      <th>462</th>\n",
       "      <td>67.18</td>\n",
       "      <td>56.281670</td>\n",
       "    </tr>\n",
       "    <tr>\n",
       "      <th>129</th>\n",
       "      <td>33.37</td>\n",
       "      <td>47.650397</td>\n",
       "    </tr>\n",
       "    <tr>\n",
       "      <th>845</th>\n",
       "      <td>48.03</td>\n",
       "      <td>45.206156</td>\n",
       "    </tr>\n",
       "    <tr>\n",
       "      <th>331</th>\n",
       "      <td>85.89</td>\n",
       "      <td>43.199913</td>\n",
       "    </tr>\n",
       "    <tr>\n",
       "      <th>323</th>\n",
       "      <td>44.91</td>\n",
       "      <td>43.019345</td>\n",
       "    </tr>\n",
       "    <tr>\n",
       "      <th>650</th>\n",
       "      <td>42.52</td>\n",
       "      <td>35.634298</td>\n",
       "    </tr>\n",
       "    <tr>\n",
       "      <th>439</th>\n",
       "      <td>52.64</td>\n",
       "      <td>43.221838</td>\n",
       "    </tr>\n",
       "    <tr>\n",
       "      <th>798</th>\n",
       "      <td>45.76</td>\n",
       "      <td>39.771596</td>\n",
       "    </tr>\n",
       "    <tr>\n",
       "      <th>135</th>\n",
       "      <td>38.62</td>\n",
       "      <td>43.975914</td>\n",
       "    </tr>\n",
       "  </tbody>\n",
       "</table>\n",
       "<p>439 rows × 2 columns</p>\n",
       "</div>"
      ],
      "text/plain": [
       "      Actual  Predicted\n",
       "892    53.26  50.534419\n",
       "1106   63.48  54.202915\n",
       "413    58.41  54.974188\n",
       "522    54.59  45.452134\n",
       "1036   89.89  44.638356\n",
       "614    31.38  36.570728\n",
       "218    30.08  42.414202\n",
       "1161   67.23  47.234312\n",
       "649    42.48  36.792686\n",
       "887    53.50  44.189594\n",
       "576   105.94  45.331873\n",
       "1253   34.75  47.657204\n",
       "1061   62.56  42.222871\n",
       "567    40.83  43.968024\n",
       "1307   43.34  40.653665\n",
       "1114   61.72  49.514345\n",
       "168    40.50  44.015790\n",
       "1103   62.39  49.617749\n",
       "1121   58.69  47.948599\n",
       "67     30.31  35.555407\n",
       "1040   56.97  39.412841\n",
       "453    51.39  52.341983\n",
       "670    19.93  34.233674\n",
       "1456   42.44  48.700869\n",
       "192    36.18  50.993079\n",
       "123    32.06  44.719221\n",
       "415    42.63  52.221968\n",
       "277    42.24  42.378707\n",
       "433    27.83  37.368567\n",
       "1318   37.36  44.210069\n",
       "...      ...        ...\n",
       "1193   86.19  58.438460\n",
       "1323   34.38  49.846725\n",
       "704    44.05  43.653181\n",
       "1324   40.46  49.792199\n",
       "199    29.12  44.704226\n",
       "493    44.19  43.690173\n",
       "664    43.46  36.159830\n",
       "1340   43.18  48.411587\n",
       "1058   56.53  44.606462\n",
       "1188   65.85  54.404882\n",
       "10     39.89  45.519229\n",
       "147    30.28  46.521248\n",
       "764    48.69  55.396183\n",
       "282    34.88  42.366357\n",
       "298    34.33  38.569583\n",
       "918    45.43  46.510717\n",
       "291    38.87  43.096054\n",
       "819    50.23  46.966544\n",
       "573    36.23  37.674473\n",
       "1455   34.49  44.093820\n",
       "549    41.82  47.458990\n",
       "462    67.18  56.281670\n",
       "129    33.37  47.650397\n",
       "845    48.03  45.206156\n",
       "331    85.89  43.199913\n",
       "323    44.91  43.019345\n",
       "650    42.52  35.634298\n",
       "439    52.64  43.221838\n",
       "798    45.76  39.771596\n",
       "135    38.62  43.975914\n",
       "\n",
       "[439 rows x 2 columns]"
      ]
     },
     "execution_count": 71,
     "metadata": {},
     "output_type": "execute_result"
    }
   ],
   "source": [
    "compare = pd.DataFrame({'Actual': y_test, 'Predicted': y_pred\n",
    "                  })\n",
    "compare"
   ]
  },
  {
   "cell_type": "code",
   "execution_count": 72,
   "metadata": {},
   "outputs": [
    {
     "data": {
      "image/png": "[encoded data removed]",
      "text/plain": [
       "<Figure size 432x288 with 1 Axes>"
      ]
     },
     "metadata": {
      "needs_background": "light"
     },
     "output_type": "display_data"
    }
   ],
   "source": [
    "df = compare.head(30)\n",
    "df.plot(kind='bar')\n",
    "plt.grid(which='major', linestyle='-', linewidth='0.5', color='green')\n",
    "plt.grid(which='minor', linestyle=':', linewidth='0.5', color='black')\n",
    "plt.show()"
   ]
  }
 ],
 "metadata": {
  "kernelspec": {
   "display_name": "Python 3",
   "language": "python",
   "name": "python3"
  },
  "language_info": {
   "codemirror_mode": {
    "name": "ipython",
    "version": 3
   },
   "file_extension": ".py",
   "mimetype": "text/x-python",
   "name": "python",
   "nbconvert_exporter": "python",
   "pygments_lexer": "ipython3",
   "version": "3.7.3"
  }
 },
 "nbformat": 4,
 "nbformat_minor": 2
}
